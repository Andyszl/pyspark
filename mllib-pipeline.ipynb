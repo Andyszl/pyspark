{
 "cells": [
  {
   "cell_type": "code",
   "execution_count": 1,
   "metadata": {},
   "outputs": [],
   "source": [
    "from pyspark.ml.linalg import Vectors,Vector"
   ]
  },
  {
   "cell_type": "code",
   "execution_count": 2,
   "metadata": {},
   "outputs": [],
   "source": [
    "from pyspark.ml.feature import HashingTF,IDF,Tokenizer\n",
    "from pyspark.ml.classification import LogisticRegression\n",
    "from pyspark.ml import Pipeline"
   ]
  },
  {
   "cell_type": "code",
   "execution_count": 3,
   "metadata": {},
   "outputs": [],
   "source": [
    "from pyspark.sql import SparkSession"
   ]
  },
  {
   "cell_type": "code",
   "execution_count": 4,
   "metadata": {},
   "outputs": [],
   "source": [
    "spark = SparkSession.builder.appName('mllib').getOrCreate()"
   ]
  },
  {
   "cell_type": "code",
   "execution_count": 5,
   "metadata": {},
   "outputs": [],
   "source": [
    "training = spark.createDataFrame([(0, \"I heard about Spark and I love Spark\",1),(1, \"spark is fast\",1),(2, \"hadoop is good\",0),(3,\"hive is very well\",0)],[\"id\",\"text\",\"label\"])"
   ]
  },
  {
   "cell_type": "markdown",
   "metadata": {},
   "source": [
    "定义Pipeline中的各个流水线阶段Pipeline Stage，包括转换器和评估其，具体的，包含tokenizer，hashingTF和lr"
   ]
  },
  {
   "cell_type": "code",
   "execution_count": 6,
   "metadata": {},
   "outputs": [],
   "source": [
    "tokenizer=Tokenizer(inputCol=\"text\",outputCol=\"words\")\n",
    "hashingTF=HashingTF(inputCol=tokenizer.getOutputCol(),outputCol=\"features\")\n",
    "lr=LogisticRegression(maxIter=10,regParam=0.001)"
   ]
  },
  {
   "cell_type": "code",
   "execution_count": 7,
   "metadata": {},
   "outputs": [],
   "source": [
    "pipeline=Pipeline(stages=[tokenizer,hashingTF,lr])"
   ]
  },
  {
   "cell_type": "markdown",
   "metadata": {},
   "source": [
    "现在构建的Pipeline本质上是一个Estimator，在它的fit方法运行之后，他将产生一个ePipelineModel,他是一个Transformer"
   ]
  },
  {
   "cell_type": "code",
   "execution_count": 8,
   "metadata": {},
   "outputs": [],
   "source": [
    "model=pipeline.fit(training)"
   ]
  },
  {
   "cell_type": "markdown",
   "metadata": {},
   "source": [
    "构建测试数据"
   ]
  },
  {
   "cell_type": "code",
   "execution_count": 13,
   "metadata": {},
   "outputs": [],
   "source": [
    "test=spark.createDataFrame([(4,\"spark is the best\"),(5,\"Hbase is good\"),(6,\"this is spark\"),(7,\"it is flink\")],[\"id\",\"text\"])"
   ]
  },
  {
   "cell_type": "markdown",
   "metadata": {},
   "source": [
    "调用训练好的PipelineModel,的transform方法，让测试数据按照顺序通过拟合的流水线，产生预测结果"
   ]
  },
  {
   "cell_type": "code",
   "execution_count": 14,
   "metadata": {},
   "outputs": [],
   "source": [
    "prediction = model.transform(test)"
   ]
  },
  {
   "cell_type": "code",
   "execution_count": 15,
   "metadata": {},
   "outputs": [],
   "source": [
    "selected=prediction.select(\"id\",\"text\",\"probability\",\"prediction\")"
   ]
  },
  {
   "cell_type": "code",
   "execution_count": 16,
   "metadata": {},
   "outputs": [
    {
     "name": "stdout",
     "output_type": "stream",
     "text": [
      "+---+-----------------+----------------------------------------+----------+\n",
      "|id |text             |probability                             |prediction|\n",
      "+---+-----------------+----------------------------------------+----------+\n",
      "|4  |spark is the best|[0.22857839831078508,0.7714216016892149]|1.0       |\n",
      "|5  |Hbase is good    |[0.9581222139410415,0.04187778605895862]|0.0       |\n",
      "|6  |this is spark    |[0.22857839831078508,0.7714216016892149]|1.0       |\n",
      "|7  |it is flink      |[0.5910580523621201,0.40894194763787994]|0.0       |\n",
      "+---+-----------------+----------------------------------------+----------+\n",
      "\n"
     ]
    }
   ],
   "source": [
    "selected.show(truncate=False)"
   ]
  },
  {
   "cell_type": "code",
   "execution_count": null,
   "metadata": {},
   "outputs": [],
   "source": []
  },
  {
   "cell_type": "code",
   "execution_count": null,
   "metadata": {},
   "outputs": [],
   "source": []
  }
 ],
 "metadata": {
  "kernelspec": {
   "display_name": "Python 3",
   "language": "python",
   "name": "python3"
  },
  "language_info": {
   "codemirror_mode": {
    "name": "ipython",
    "version": 3
   },
   "file_extension": ".py",
   "mimetype": "text/x-python",
   "name": "python",
   "nbconvert_exporter": "python",
   "pygments_lexer": "ipython3",
   "version": "3.6.4"
  }
 },
 "nbformat": 4,
 "nbformat_minor": 2
}
