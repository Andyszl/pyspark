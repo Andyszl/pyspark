{
 "cells": [
  {
   "cell_type": "code",
   "execution_count": 2,
   "metadata": {},
   "outputs": [],
   "source": [
    "from pyspark.sql import SparkSession"
   ]
  },
  {
   "cell_type": "code",
   "execution_count": 3,
   "metadata": {},
   "outputs": [],
   "source": [
    "spark = SparkSession.builder.appName('data_processing').getOrCreate()"
   ]
  },
  {
   "cell_type": "code",
   "execution_count": 4,
   "metadata": {},
   "outputs": [],
   "source": [
    "df=spark.read.csv('iris.csv',inferSchema=True,header=True)"
   ]
  },
  {
   "cell_type": "code",
   "execution_count": 5,
   "metadata": {},
   "outputs": [
    {
     "data": {
      "text/plain": [
       "['sepal_length', 'sepal_width', 'petal_length', 'petal_width', 'class']"
      ]
     },
     "execution_count": 5,
     "metadata": {},
     "output_type": "execute_result"
    }
   ],
   "source": [
    "df.columns"
   ]
  },
  {
   "cell_type": "code",
   "execution_count": 6,
   "metadata": {},
   "outputs": [
    {
     "data": {
      "text/plain": [
       "150"
      ]
     },
     "execution_count": 6,
     "metadata": {},
     "output_type": "execute_result"
    }
   ],
   "source": [
    "df.count()"
   ]
  },
  {
   "cell_type": "code",
   "execution_count": 7,
   "metadata": {},
   "outputs": [
    {
     "name": "stdout",
     "output_type": "stream",
     "text": [
      "root\n",
      " |-- sepal_length: double (nullable = true)\n",
      " |-- sepal_width: double (nullable = true)\n",
      " |-- petal_length: double (nullable = true)\n",
      " |-- petal_width: double (nullable = true)\n",
      " |-- class: string (nullable = true)\n",
      "\n"
     ]
    }
   ],
   "source": [
    "df.printSchema()"
   ]
  },
  {
   "cell_type": "code",
   "execution_count": 8,
   "metadata": {},
   "outputs": [
    {
     "name": "stdout",
     "output_type": "stream",
     "text": [
      "+------------+-----------+------------+-----------+------+\n",
      "|sepal_length|sepal_width|petal_length|petal_width| class|\n",
      "+------------+-----------+------------+-----------+------+\n",
      "|         5.1|        3.5|         1.4|        0.2|SETOSA|\n",
      "|         4.9|        3.0|         1.4|        0.2|SETOSA|\n",
      "|         4.7|        3.2|         1.3|        0.2|SETOSA|\n",
      "+------------+-----------+------------+-----------+------+\n",
      "only showing top 3 rows\n",
      "\n"
     ]
    }
   ],
   "source": [
    "df.show(3)"
   ]
  },
  {
   "cell_type": "code",
   "execution_count": 12,
   "metadata": {},
   "outputs": [
    {
     "name": "stdout",
     "output_type": "stream",
     "text": [
      "+------------+------+\n",
      "|sepal_length| class|\n",
      "+------------+------+\n",
      "|         5.1|SETOSA|\n",
      "|         4.9|SETOSA|\n",
      "|         4.7|SETOSA|\n",
      "|         4.6|SETOSA|\n",
      "|         5.0|SETOSA|\n",
      "+------------+------+\n",
      "only showing top 5 rows\n",
      "\n"
     ]
    }
   ],
   "source": [
    "df.select('sepal_length','class').show(5)"
   ]
  },
  {
   "cell_type": "code",
   "execution_count": 13,
   "metadata": {},
   "outputs": [
    {
     "name": "stdout",
     "output_type": "stream",
     "text": [
      "+-------+------------------+-------------------+------------------+------------------+---------+\n",
      "|summary|      sepal_length|        sepal_width|      petal_length|       petal_width|    class|\n",
      "+-------+------------------+-------------------+------------------+------------------+---------+\n",
      "|  count|               150|                150|               150|               150|      150|\n",
      "|   mean| 5.843333333333335| 3.0540000000000007|3.7586666666666693|1.1986666666666672|     null|\n",
      "| stddev|0.8280661279778637|0.43359431136217375| 1.764420419952262|0.7631607417008414|     null|\n",
      "|    min|               4.3|                2.0|               1.0|               0.1|   SETOSA|\n",
      "|    max|               7.9|                4.4|               6.9|               2.5|VIRGINICA|\n",
      "+-------+------------------+-------------------+------------------+------------------+---------+\n",
      "\n"
     ]
    }
   ],
   "source": [
    "df.describe().show()"
   ]
  },
  {
   "cell_type": "markdown",
   "metadata": {},
   "source": [
    "添加新列"
   ]
  },
  {
   "cell_type": "code",
   "execution_count": 14,
   "metadata": {},
   "outputs": [
    {
     "name": "stdout",
     "output_type": "stream",
     "text": [
      "+------------+-----------+------------+-----------+------+---------------+\n",
      "|sepal_length|sepal_width|petal_length|petal_width| class|petal_width_*10|\n",
      "+------------+-----------+------------+-----------+------+---------------+\n",
      "|         5.1|        3.5|         1.4|        0.2|SETOSA|            2.0|\n",
      "|         4.9|        3.0|         1.4|        0.2|SETOSA|            2.0|\n",
      "|         4.7|        3.2|         1.3|        0.2|SETOSA|            2.0|\n",
      "|         4.6|        3.1|         1.5|        0.2|SETOSA|            2.0|\n",
      "|         5.0|        3.6|         1.4|        0.2|SETOSA|            2.0|\n",
      "+------------+-----------+------------+-----------+------+---------------+\n",
      "only showing top 5 rows\n",
      "\n"
     ]
    }
   ],
   "source": [
    "df.withColumn(\"petal_width_*10\",df[\"petal_width\"]*10).show(5)"
   ]
  },
  {
   "cell_type": "markdown",
   "metadata": {},
   "source": [
    "filter筛选"
   ]
  },
  {
   "cell_type": "code",
   "execution_count": 17,
   "metadata": {},
   "outputs": [
    {
     "name": "stdout",
     "output_type": "stream",
     "text": [
      "+------------+-----------+------------+-----------+------+\n",
      "|sepal_length|sepal_width|petal_length|petal_width| class|\n",
      "+------------+-----------+------------+-----------+------+\n",
      "|         4.4|        2.9|         1.4|        0.2|SETOSA|\n",
      "|         4.3|        3.0|         1.1|        0.1|SETOSA|\n",
      "|         4.4|        3.0|         1.3|        0.2|SETOSA|\n",
      "|         4.4|        3.2|         1.3|        0.2|SETOSA|\n",
      "+------------+-----------+------------+-----------+------+\n",
      "\n"
     ]
    }
   ],
   "source": [
    "df.filter(df[\"sepal_length\"]<4.5).show()"
   ]
  },
  {
   "cell_type": "code",
   "execution_count": 20,
   "metadata": {},
   "outputs": [
    {
     "name": "stdout",
     "output_type": "stream",
     "text": [
      "+------------+-----------+------------+-----------+------+\n",
      "|sepal_length|sepal_width|petal_length|petal_width| class|\n",
      "+------------+-----------+------------+-----------+------+\n",
      "|         4.4|        3.0|         1.3|        0.2|SETOSA|\n",
      "|         4.4|        3.2|         1.3|        0.2|SETOSA|\n",
      "+------------+-----------+------------+-----------+------+\n",
      "\n"
     ]
    }
   ],
   "source": [
    "df.filter(df[\"sepal_length\"]<4.5).filter(df[\"petal_length\"]==1.3).show()"
   ]
  },
  {
   "cell_type": "code",
   "execution_count": 21,
   "metadata": {},
   "outputs": [
    {
     "name": "stdout",
     "output_type": "stream",
     "text": [
      "+------------+-----------+------------+-----------+------+\n",
      "|sepal_length|sepal_width|petal_length|petal_width| class|\n",
      "+------------+-----------+------------+-----------+------+\n",
      "|         4.4|        3.0|         1.3|        0.2|SETOSA|\n",
      "|         4.4|        3.2|         1.3|        0.2|SETOSA|\n",
      "+------------+-----------+------------+-----------+------+\n",
      "\n"
     ]
    }
   ],
   "source": [
    "df.filter((df[\"sepal_length\"]<4.5)&(df[\"petal_length\"]==1.3)).show()"
   ]
  },
  {
   "cell_type": "code",
   "execution_count": 22,
   "metadata": {},
   "outputs": [
    {
     "name": "stdout",
     "output_type": "stream",
     "text": [
      "+----------+\n",
      "|     class|\n",
      "+----------+\n",
      "|VERSICOLOR|\n",
      "| VIRGINICA|\n",
      "|    SETOSA|\n",
      "+----------+\n",
      "\n"
     ]
    }
   ],
   "source": [
    "df.select(\"class\").distinct().show()"
   ]
  },
  {
   "cell_type": "markdown",
   "metadata": {},
   "source": [
    "分组"
   ]
  },
  {
   "cell_type": "code",
   "execution_count": 24,
   "metadata": {},
   "outputs": [
    {
     "name": "stdout",
     "output_type": "stream",
     "text": [
      "+----------+-----+\n",
      "|     class|count|\n",
      "+----------+-----+\n",
      "|VERSICOLOR|   50|\n",
      "| VIRGINICA|   50|\n",
      "|    SETOSA|   50|\n",
      "+----------+-----+\n",
      "\n"
     ]
    }
   ],
   "source": [
    "df.groupBy(\"class\").count().show()"
   ]
  },
  {
   "cell_type": "code",
   "execution_count": 26,
   "metadata": {},
   "outputs": [
    {
     "name": "stdout",
     "output_type": "stream",
     "text": [
      "+----------+-----------------+------------------+-----------------+------------------+\n",
      "|     class|avg(sepal_length)|  avg(sepal_width)|avg(petal_length)|  avg(petal_width)|\n",
      "+----------+-----------------+------------------+-----------------+------------------+\n",
      "|VERSICOLOR|            5.936|2.7700000000000005|             4.26|1.3259999999999998|\n",
      "| VIRGINICA|6.587999999999998|2.9739999999999998|            5.552|             2.026|\n",
      "|    SETOSA|5.005999999999999|3.4180000000000006|            1.464|0.2439999999999999|\n",
      "+----------+-----------------+------------------+-----------------+------------------+\n",
      "\n"
     ]
    }
   ],
   "source": [
    "df.groupBy(\"class\").mean().show()"
   ]
  },
  {
   "cell_type": "code",
   "execution_count": 27,
   "metadata": {},
   "outputs": [
    {
     "name": "stdout",
     "output_type": "stream",
     "text": [
      "+----------+-----------------+----------------+-----------------+----------------+\n",
      "|     class|max(sepal_length)|max(sepal_width)|max(petal_length)|max(petal_width)|\n",
      "+----------+-----------------+----------------+-----------------+----------------+\n",
      "|VERSICOLOR|              7.0|             3.4|              5.1|             1.8|\n",
      "| VIRGINICA|              7.9|             3.8|              6.9|             2.5|\n",
      "|    SETOSA|              5.8|             4.4|              1.9|             0.6|\n",
      "+----------+-----------------+----------------+-----------------+----------------+\n",
      "\n"
     ]
    }
   ],
   "source": [
    "df.groupBy(\"class\").max().show()"
   ]
  },
  {
   "cell_type": "code",
   "execution_count": null,
   "metadata": {},
   "outputs": [],
   "source": []
  }
 ],
 "metadata": {
  "kernelspec": {
   "display_name": "Python 3",
   "language": "python",
   "name": "python3"
  },
  "language_info": {
   "codemirror_mode": {
    "name": "ipython",
    "version": 3
   },
   "file_extension": ".py",
   "mimetype": "text/x-python",
   "name": "python",
   "nbconvert_exporter": "python",
   "pygments_lexer": "ipython3",
   "version": "3.6.4"
  }
 },
 "nbformat": 4,
 "nbformat_minor": 2
}
