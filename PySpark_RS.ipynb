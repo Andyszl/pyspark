{
 "cells": [
  {
   "cell_type": "code",
   "execution_count": 1,
   "metadata": {},
   "outputs": [],
   "source": [
    "#import and create sparksession object\n",
    "from pyspark.sql import SparkSession \n",
    "spark=SparkSession.builder.appName('rc').getOrCreate()"
   ]
  },
  {
   "cell_type": "code",
   "execution_count": 2,
   "metadata": {},
   "outputs": [],
   "source": [
    "df=spark.read.csv('movie_ratings_df.csv',inferSchema=True,header=True)"
   ]
  },
  {
   "cell_type": "code",
   "execution_count": 3,
   "metadata": {},
   "outputs": [
    {
     "name": "stdout",
     "output_type": "stream",
     "text": [
      "(100000, 3)\n"
     ]
    }
   ],
   "source": [
    "print((df.count(),len(df.columns)))"
   ]
  },
  {
   "cell_type": "code",
   "execution_count": 4,
   "metadata": {},
   "outputs": [
    {
     "name": "stdout",
     "output_type": "stream",
     "text": [
      "root\n",
      " |-- userId: integer (nullable = true)\n",
      " |-- title: string (nullable = true)\n",
      " |-- rating: integer (nullable = true)\n",
      "\n"
     ]
    }
   ],
   "source": [
    "df.printSchema()"
   ]
  },
  {
   "cell_type": "code",
   "execution_count": 5,
   "metadata": {},
   "outputs": [],
   "source": [
    "from pyspark.sql.functions import *"
   ]
  },
  {
   "cell_type": "code",
   "execution_count": 6,
   "metadata": {},
   "outputs": [
    {
     "name": "stdout",
     "output_type": "stream",
     "text": [
      "+------+------------------------------------+------+\n",
      "|userId|title                               |rating|\n",
      "+------+------------------------------------+------+\n",
      "|472   |Chain Reaction (1996)               |5     |\n",
      "|772   |Fire Down Below (1997)              |3     |\n",
      "|943   |Braveheart (1995)                   |4     |\n",
      "|255   |Jaws (1975)                         |5     |\n",
      "|815   |Hamlet (1996)                       |5     |\n",
      "|897   |Striptease (1996)                   |3     |\n",
      "|644   |Saint, The (1997)                   |4     |\n",
      "|416   |Bridge on the River Kwai, The (1957)|5     |\n",
      "|776   |Picnic (1955)                       |3     |\n",
      "|119   |Men in Black (1997)                 |4     |\n",
      "+------+------------------------------------+------+\n",
      "only showing top 10 rows\n",
      "\n"
     ]
    }
   ],
   "source": [
    "df.orderBy(rand()).show(10,False)"
   ]
  },
  {
   "cell_type": "markdown",
   "metadata": {},
   "source": [
    "### 简单EDA"
   ]
  },
  {
   "cell_type": "code",
   "execution_count": 7,
   "metadata": {},
   "outputs": [
    {
     "name": "stdout",
     "output_type": "stream",
     "text": [
      "+------+-----+\n",
      "|userId|count|\n",
      "+------+-----+\n",
      "|405   |737  |\n",
      "|655   |685  |\n",
      "|13    |636  |\n",
      "|450   |540  |\n",
      "|276   |518  |\n",
      "+------+-----+\n",
      "only showing top 5 rows\n",
      "\n"
     ]
    }
   ],
   "source": [
    "df.groupBy(\"userId\").count().orderBy('count',ascending=False).show(5,False)"
   ]
  },
  {
   "cell_type": "code",
   "execution_count": 8,
   "metadata": {},
   "outputs": [
    {
     "name": "stdout",
     "output_type": "stream",
     "text": [
      "+-------------------------+-----+\n",
      "|title                    |count|\n",
      "+-------------------------+-----+\n",
      "|Star Wars (1977)         |583  |\n",
      "|Contact (1997)           |509  |\n",
      "|Fargo (1996)             |508  |\n",
      "|Return of the Jedi (1983)|507  |\n",
      "|Liar Liar (1997)         |485  |\n",
      "+-------------------------+-----+\n",
      "only showing top 5 rows\n",
      "\n"
     ]
    }
   ],
   "source": [
    "df.groupBy(\"title\").count().orderBy('count',ascending=False).show(5,False)"
   ]
  },
  {
   "cell_type": "markdown",
   "metadata": {},
   "source": [
    "### 特征工程"
   ]
  },
  {
   "cell_type": "code",
   "execution_count": 9,
   "metadata": {},
   "outputs": [],
   "source": [
    "from pyspark.ml.feature import StringIndexer,IndexToString"
   ]
  },
  {
   "cell_type": "code",
   "execution_count": 10,
   "metadata": {},
   "outputs": [],
   "source": [
    "stringIndexer = StringIndexer(inputCol=\"title\", outputCol=\"title_new\")"
   ]
  },
  {
   "cell_type": "code",
   "execution_count": 11,
   "metadata": {},
   "outputs": [],
   "source": [
    "model = stringIndexer.fit(df)"
   ]
  },
  {
   "cell_type": "code",
   "execution_count": 12,
   "metadata": {},
   "outputs": [],
   "source": [
    "indexed = model.transform(df)"
   ]
  },
  {
   "cell_type": "code",
   "execution_count": 13,
   "metadata": {},
   "outputs": [
    {
     "name": "stdout",
     "output_type": "stream",
     "text": [
      "+------+-----------------------------------+------+---------+\n",
      "|userId|title                              |rating|title_new|\n",
      "+------+-----------------------------------+------+---------+\n",
      "|854   |Jack (1996)                        |2     |464.0    |\n",
      "|907   |GoodFellas (1990)                  |5     |87.0     |\n",
      "|125   |Dante's Peak (1997)                |3     |76.0     |\n",
      "|246   |Twister (1996)                     |1     |43.0     |\n",
      "|651   |Cold Comfort Farm (1995)           |2     |262.0    |\n",
      "|645   |Schindler's List (1993)            |5     |36.0     |\n",
      "|16    |Bronx Tale, A (1993)               |5     |615.0    |\n",
      "|715   |Clerks (1994)                      |5     |207.0    |\n",
      "|561   |Mighty Aphrodite (1995)            |3     |133.0    |\n",
      "|332   |Star Trek: The Wrath of Khan (1982)|5     |72.0     |\n",
      "+------+-----------------------------------+------+---------+\n",
      "only showing top 10 rows\n",
      "\n"
     ]
    }
   ],
   "source": [
    "indexed.orderBy(rand()).show(10,False)"
   ]
  },
  {
   "cell_type": "code",
   "execution_count": 15,
   "metadata": {},
   "outputs": [
    {
     "name": "stdout",
     "output_type": "stream",
     "text": [
      "+---------+-----+\n",
      "|title_new|count|\n",
      "+---------+-----+\n",
      "|0.0      |583  |\n",
      "|1.0      |509  |\n",
      "|2.0      |508  |\n",
      "|3.0      |507  |\n",
      "|4.0      |485  |\n",
      "+---------+-----+\n",
      "only showing top 5 rows\n",
      "\n"
     ]
    }
   ],
   "source": [
    "indexed.groupBy(\"title_new\").count().orderBy('count',ascending=False).show(5,False)"
   ]
  },
  {
   "cell_type": "markdown",
   "metadata": {},
   "source": [
    "### 划分数据集"
   ]
  },
  {
   "cell_type": "code",
   "execution_count": 16,
   "metadata": {},
   "outputs": [],
   "source": [
    "train,test=indexed.randomSplit([0.75,0.25])"
   ]
  },
  {
   "cell_type": "code",
   "execution_count": 17,
   "metadata": {},
   "outputs": [
    {
     "data": {
      "text/plain": [
       "75038"
      ]
     },
     "execution_count": 17,
     "metadata": {},
     "output_type": "execute_result"
    }
   ],
   "source": [
    "train.count()"
   ]
  },
  {
   "cell_type": "code",
   "execution_count": 18,
   "metadata": {},
   "outputs": [
    {
     "data": {
      "text/plain": [
       "24962"
      ]
     },
     "execution_count": 18,
     "metadata": {},
     "output_type": "execute_result"
    }
   ],
   "source": [
    "test.count()"
   ]
  },
  {
   "cell_type": "markdown",
   "metadata": {},
   "source": [
    "### 构建模型"
   ]
  },
  {
   "cell_type": "code",
   "execution_count": 19,
   "metadata": {},
   "outputs": [],
   "source": [
    "from pyspark.ml.recommendation import ALS"
   ]
  },
  {
   "cell_type": "code",
   "execution_count": 20,
   "metadata": {},
   "outputs": [],
   "source": [
    "alsExplicit=ALS(maxIter=10,regParam=0.01,userCol='userId',itemCol='title_new',ratingCol='rating',nonnegative=True,coldStartStrategy=\"drop\")"
   ]
  },
  {
   "cell_type": "code",
   "execution_count": 23,
   "metadata": {},
   "outputs": [],
   "source": [
    "alsImplicit = ALS(maxIter=10, regParam=0.01, implicitPrefs=True,userCol=\"userId\", itemCol=\"title_new\", ratingCol=\"rating\",nonnegative=True,coldStartStrategy=\"drop\")"
   ]
  },
  {
   "cell_type": "code",
   "execution_count": 24,
   "metadata": {},
   "outputs": [],
   "source": [
    "modelExplicit = alsExplicit.fit(train)\n",
    "modelImplicit = alsImplicit.fit(train)"
   ]
  },
  {
   "cell_type": "code",
   "execution_count": 25,
   "metadata": {},
   "outputs": [],
   "source": [
    "predictionsExplicit = modelExplicit.transform(test)\n",
    "predictionsImplicit = modelImplicit.transform(test)"
   ]
  },
  {
   "cell_type": "code",
   "execution_count": 26,
   "metadata": {},
   "outputs": [
    {
     "name": "stdout",
     "output_type": "stream",
     "text": [
      "root\n",
      " |-- userId: integer (nullable = true)\n",
      " |-- title: string (nullable = true)\n",
      " |-- rating: integer (nullable = true)\n",
      " |-- title_new: double (nullable = false)\n",
      " |-- prediction: float (nullable = false)\n",
      "\n"
     ]
    }
   ],
   "source": [
    "predictionsExplicit.printSchema()"
   ]
  },
  {
   "cell_type": "code",
   "execution_count": 27,
   "metadata": {},
   "outputs": [
    {
     "name": "stdout",
     "output_type": "stream",
     "text": [
      "root\n",
      " |-- userId: integer (nullable = true)\n",
      " |-- title: string (nullable = true)\n",
      " |-- rating: integer (nullable = true)\n",
      " |-- title_new: double (nullable = false)\n",
      " |-- prediction: float (nullable = false)\n",
      "\n"
     ]
    }
   ],
   "source": [
    "predictionsImplicit.printSchema()"
   ]
  },
  {
   "cell_type": "code",
   "execution_count": 32,
   "metadata": {},
   "outputs": [
    {
     "name": "stdout",
     "output_type": "stream",
     "text": [
      "+------+--------------------------------------------------------+------+---------+----------+\n",
      "|userId|title                                                   |rating|title_new|prediction|\n",
      "+------+--------------------------------------------------------+------+---------+----------+\n",
      "|716   |Mrs. Parker and the Vicious Circle (1994)               |4     |898.0    |3.5278287 |\n",
      "|21    |Bad Moon (1996)                                         |2     |1257.0   |3.059618  |\n",
      "|704   |Adventures of Priscilla, Queen of the Desert, The (1994)|4     |305.0    |3.9275265 |\n",
      "|614   |Glimmer Man, The (1996)                                 |2     |617.0    |4.8782835 |\n",
      "|758   |Jaws (1975)                                             |4     |49.0     |4.1439214 |\n",
      "|913   |Stand by Me (1986)                                      |4     |86.0     |2.9935067 |\n",
      "|194   |Raiders of the Lost Ark (1981)                          |4     |10.0     |3.7930808 |\n",
      "|561   |True Romance (1993)                                     |3     |321.0    |3.0618649 |\n",
      "|536   |Birds, The (1963)                                       |3     |180.0    |3.3300934 |\n",
      "|253   |Jurassic Park (1993)                                    |3     |58.0     |3.991497  |\n",
      "+------+--------------------------------------------------------+------+---------+----------+\n",
      "only showing top 10 rows\n",
      "\n"
     ]
    }
   ],
   "source": [
    "predictionsExplicit.orderBy(rand()).show(10,False)"
   ]
  },
  {
   "cell_type": "code",
   "execution_count": 33,
   "metadata": {},
   "outputs": [
    {
     "name": "stdout",
     "output_type": "stream",
     "text": [
      "+------+------------------------------------+------+---------+----------+\n",
      "|userId|title                               |rating|title_new|prediction|\n",
      "+------+------------------------------------+------+---------+----------+\n",
      "|648   |Somewhere in Time (1980)            |3     |407.0    |0.33995605|\n",
      "|308   |Forrest Gump (1994)                 |2     |27.0     |0.88827765|\n",
      "|344   |Interview with the Vampire (1994)   |3     |225.0    |0.16361305|\n",
      "|622   |Bridge on the River Kwai, The (1957)|5     |175.0    |0.6002901 |\n",
      "|295   |Miracle on 34th Street (1994)       |4     |330.0    |0.7866774 |\n",
      "|385   |Godfather, The (1972)               |4     |11.0     |0.73441947|\n",
      "|862   |Shining, The (1980)                 |5     |113.0    |0.8084216 |\n",
      "|655   |Bound (1996)                        |3     |242.0    |1.1908602 |\n",
      "|608   |Game, The (1997)                    |4     |67.0     |0.4708835 |\n",
      "|214   |Twelve Monkeys (1995)               |5     |13.0     |0.83955616|\n",
      "+------+------------------------------------+------+---------+----------+\n",
      "only showing top 10 rows\n",
      "\n"
     ]
    }
   ],
   "source": [
    "predictionsImplicit.orderBy(rand()).show(10,False)"
   ]
  },
  {
   "cell_type": "code",
   "execution_count": null,
   "metadata": {},
   "outputs": [],
   "source": []
  },
  {
   "cell_type": "markdown",
   "metadata": {},
   "source": [
    "### 评估"
   ]
  },
  {
   "cell_type": "code",
   "execution_count": 34,
   "metadata": {},
   "outputs": [],
   "source": [
    "from pyspark.ml.evaluation import RegressionEvaluator"
   ]
  },
  {
   "cell_type": "code",
   "execution_count": 35,
   "metadata": {},
   "outputs": [],
   "source": [
    "evaluator=RegressionEvaluator(metricName='rmse',predictionCol='prediction',labelCol='rating')"
   ]
  },
  {
   "cell_type": "code",
   "execution_count": 36,
   "metadata": {},
   "outputs": [],
   "source": [
    "rmseExplicit = evaluator.evaluate(predictionsExplicit)\n",
    "rmseImplicit = evaluator.evaluate(predictionsImplicit)"
   ]
  },
  {
   "cell_type": "code",
   "execution_count": 37,
   "metadata": {},
   "outputs": [
    {
     "data": {
      "text/plain": [
       "1.0352919110659273"
      ]
     },
     "execution_count": 37,
     "metadata": {},
     "output_type": "execute_result"
    }
   ],
   "source": [
    "rmseExplicit"
   ]
  },
  {
   "cell_type": "code",
   "execution_count": 38,
   "metadata": {},
   "outputs": [
    {
     "data": {
      "text/plain": [
       "3.167296329945288"
      ]
     },
     "execution_count": 38,
     "metadata": {},
     "output_type": "execute_result"
    }
   ],
   "source": [
    "rmseImplicit"
   ]
  },
  {
   "cell_type": "code",
   "execution_count": null,
   "metadata": {},
   "outputs": [],
   "source": []
  },
  {
   "cell_type": "markdown",
   "metadata": {},
   "source": [
    "### 推荐"
   ]
  },
  {
   "cell_type": "code",
   "execution_count": 39,
   "metadata": {},
   "outputs": [],
   "source": [
    "unique_movies=indexed.select('title_new').distinct()"
   ]
  },
  {
   "cell_type": "code",
   "execution_count": 40,
   "metadata": {},
   "outputs": [
    {
     "data": {
      "text/plain": [
       "1664"
      ]
     },
     "execution_count": 40,
     "metadata": {},
     "output_type": "execute_result"
    }
   ],
   "source": [
    "unique_movies.count()"
   ]
  },
  {
   "cell_type": "code",
   "execution_count": 44,
   "metadata": {},
   "outputs": [
    {
     "name": "stdout",
     "output_type": "stream",
     "text": [
      "+---------+\n",
      "|title_new|\n",
      "+---------+\n",
      "|    305.0|\n",
      "|    596.0|\n",
      "|    299.0|\n",
      "|    769.0|\n",
      "|    692.0|\n",
      "|    934.0|\n",
      "|   1051.0|\n",
      "|    496.0|\n",
      "|    558.0|\n",
      "|    170.0|\n",
      "+---------+\n",
      "only showing top 10 rows\n",
      "\n"
     ]
    }
   ],
   "source": [
    "unique_movies.show(10)"
   ]
  },
  {
   "cell_type": "code",
   "execution_count": 42,
   "metadata": {},
   "outputs": [],
   "source": [
    "a=unique_movies.alias('a')"
   ]
  },
  {
   "cell_type": "code",
   "execution_count": 43,
   "metadata": {},
   "outputs": [
    {
     "name": "stdout",
     "output_type": "stream",
     "text": [
      "+---------+\n",
      "|title_new|\n",
      "+---------+\n",
      "|    305.0|\n",
      "|    596.0|\n",
      "|    299.0|\n",
      "|    769.0|\n",
      "|    692.0|\n",
      "|    934.0|\n",
      "|   1051.0|\n",
      "|    496.0|\n",
      "|    558.0|\n",
      "|    170.0|\n",
      "|    184.0|\n",
      "|    576.0|\n",
      "|    147.0|\n",
      "|    810.0|\n",
      "|    720.0|\n",
      "|    782.0|\n",
      "|   1369.0|\n",
      "|   1587.0|\n",
      "|    160.0|\n",
      "|    608.0|\n",
      "+---------+\n",
      "only showing top 20 rows\n",
      "\n"
     ]
    }
   ],
   "source": [
    "a.show()"
   ]
  },
  {
   "cell_type": "markdown",
   "metadata": {},
   "source": [
    "### 选定用户"
   ]
  },
  {
   "cell_type": "code",
   "execution_count": 45,
   "metadata": {},
   "outputs": [],
   "source": [
    "user_id=85"
   ]
  },
  {
   "cell_type": "code",
   "execution_count": 46,
   "metadata": {},
   "outputs": [],
   "source": [
    "watched_movies=indexed.filter(indexed['userId'] == user_id).select('title_new').distinct()"
   ]
  },
  {
   "cell_type": "code",
   "execution_count": 47,
   "metadata": {},
   "outputs": [
    {
     "data": {
      "text/plain": [
       "287"
      ]
     },
     "execution_count": 47,
     "metadata": {},
     "output_type": "execute_result"
    }
   ],
   "source": [
    "watched_movies.count()"
   ]
  },
  {
   "cell_type": "code",
   "execution_count": 48,
   "metadata": {},
   "outputs": [],
   "source": [
    "b=watched_movies.alias('b')"
   ]
  },
  {
   "cell_type": "markdown",
   "metadata": {},
   "source": [
    "### 选出用户没有观看的电影"
   ]
  },
  {
   "cell_type": "code",
   "execution_count": 49,
   "metadata": {},
   "outputs": [],
   "source": [
    "total_movies = a.join(b, a.title_new == b.title_new,how='left')"
   ]
  },
  {
   "cell_type": "code",
   "execution_count": 51,
   "metadata": {},
   "outputs": [
    {
     "name": "stdout",
     "output_type": "stream",
     "text": [
      "+---------+---------+\n",
      "|title_new|title_new|\n",
      "+---------+---------+\n",
      "|    305.0|    305.0|\n",
      "|    596.0|     null|\n",
      "|    299.0|     null|\n",
      "|    769.0|     null|\n",
      "|    692.0|     null|\n",
      "|    934.0|     null|\n",
      "|   1051.0|     null|\n",
      "|    496.0|     null|\n",
      "|    558.0|    558.0|\n",
      "|    170.0|     null|\n",
      "+---------+---------+\n",
      "only showing top 10 rows\n",
      "\n"
     ]
    }
   ],
   "source": [
    "total_movies.show(10)"
   ]
  },
  {
   "cell_type": "code",
   "execution_count": 52,
   "metadata": {},
   "outputs": [],
   "source": [
    "remaining_movies=total_movies.where(col(\"b.title_new\").isNull()).select(a.title_new).distinct()"
   ]
  },
  {
   "cell_type": "code",
   "execution_count": 54,
   "metadata": {},
   "outputs": [
    {
     "name": "stdout",
     "output_type": "stream",
     "text": [
      "+---------+\n",
      "|title_new|\n",
      "+---------+\n",
      "|    596.0|\n",
      "|    299.0|\n",
      "|    769.0|\n",
      "|    692.0|\n",
      "|    934.0|\n",
      "|   1051.0|\n",
      "|    496.0|\n",
      "|    170.0|\n",
      "|    184.0|\n",
      "|    576.0|\n",
      "+---------+\n",
      "only showing top 10 rows\n",
      "\n"
     ]
    }
   ],
   "source": [
    "remaining_movies.show(10)"
   ]
  },
  {
   "cell_type": "code",
   "execution_count": 55,
   "metadata": {},
   "outputs": [
    {
     "data": {
      "text/plain": [
       "1377"
      ]
     },
     "execution_count": 55,
     "metadata": {},
     "output_type": "execute_result"
    }
   ],
   "source": [
    "remaining_movies.count()"
   ]
  },
  {
   "cell_type": "markdown",
   "metadata": {},
   "source": [
    "增加userid"
   ]
  },
  {
   "cell_type": "code",
   "execution_count": 56,
   "metadata": {},
   "outputs": [],
   "source": [
    "remaining_movies=remaining_movies.withColuymn(\"userId\",lit(int(user_id)))"
   ]
  },
  {
   "cell_type": "code",
   "execution_count": 58,
   "metadata": {},
   "outputs": [
    {
     "name": "stdout",
     "output_type": "stream",
     "text": [
      "+---------+------+\n",
      "|title_new|userId|\n",
      "+---------+------+\n",
      "|    596.0|    85|\n",
      "|    299.0|    85|\n",
      "|    769.0|    85|\n",
      "|    692.0|    85|\n",
      "|    934.0|    85|\n",
      "|   1051.0|    85|\n",
      "|    496.0|    85|\n",
      "|    170.0|    85|\n",
      "|    184.0|    85|\n",
      "|    576.0|    85|\n",
      "+---------+------+\n",
      "only showing top 10 rows\n",
      "\n"
     ]
    }
   ],
   "source": [
    "remaining_movies.show(10)"
   ]
  },
  {
   "cell_type": "markdown",
   "metadata": {},
   "source": [
    "### 为选定用户预测"
   ]
  },
  {
   "cell_type": "code",
   "execution_count": 59,
   "metadata": {},
   "outputs": [],
   "source": [
    "recommendations=modelExplicit.transform(remaining_movies).orderBy('prediction',ascending=False)"
   ]
  },
  {
   "cell_type": "code",
   "execution_count": 60,
   "metadata": {},
   "outputs": [
    {
     "name": "stdout",
     "output_type": "stream",
     "text": [
      "+---------+------+----------+\n",
      "|title_new|userId|prediction|\n",
      "+---------+------+----------+\n",
      "|   1128.0|    85| 5.4916253|\n",
      "|    829.0|    85| 4.7110386|\n",
      "|   1219.0|    85| 4.6468077|\n",
      "|    928.0|    85| 4.5846024|\n",
      "|   1465.0|    85| 4.5183053|\n",
      "|   1054.0|    85| 4.5009017|\n",
      "|   1542.0|    85|  4.498245|\n",
      "|   1517.0|    85|  4.498245|\n",
      "|   1432.0|    85|  4.498245|\n",
      "|   1632.0|    85|  4.498245|\n",
      "|    496.0|    85| 4.4632254|\n",
      "|    787.0|    85| 4.4523687|\n",
      "|    494.0|    85| 4.4508457|\n",
      "|   1360.0|    85|  4.438513|\n",
      "|    302.0|    85|  4.437845|\n",
      "|    108.0|    85|  4.412201|\n",
      "|   1494.0|    85| 4.3672028|\n",
      "|   1410.0|    85| 4.3464622|\n",
      "|    938.0|    85| 4.3400383|\n",
      "|    261.0|    85| 4.3393865|\n",
      "+---------+------+----------+\n",
      "only showing top 20 rows\n",
      "\n"
     ]
    }
   ],
   "source": [
    "recommendations.show()"
   ]
  },
  {
   "cell_type": "code",
   "execution_count": 61,
   "metadata": {},
   "outputs": [],
   "source": [
    "movie_title = IndexToString(inputCol=\"title_new\", outputCol=\"title\",labels=model.labels)"
   ]
  },
  {
   "cell_type": "code",
   "execution_count": 62,
   "metadata": {},
   "outputs": [],
   "source": [
    "final_recommendations=movie_title.transform(recommendations)"
   ]
  },
  {
   "cell_type": "code",
   "execution_count": 63,
   "metadata": {},
   "outputs": [
    {
     "name": "stdout",
     "output_type": "stream",
     "text": [
      "+---------+------+----------+-----------------------------------------------------------+\n",
      "|title_new|userId|prediction|title                                                      |\n",
      "+---------+------+----------+-----------------------------------------------------------+\n",
      "|1128.0   |85    |5.4916253 |Incognito (1997)                                           |\n",
      "|829.0    |85    |4.7110386 |My Man Godfrey (1936)                                      |\n",
      "|1219.0   |85    |4.6468077 |Faster Pussycat! Kill! Kill! (1965)                        |\n",
      "|928.0    |85    |4.5846024 |Paradise Lost: The Child Murders at Robin Hood Hills (1996)|\n",
      "|1465.0   |85    |4.5183053 |Anna (1996)                                                |\n",
      "|1054.0   |85    |4.5009017 |Primary Colors (1998)                                      |\n",
      "|1432.0   |85    |4.498245  |Joy Luck Club, The (1993)                                  |\n",
      "|1517.0   |85    |4.498245  |Slingshot, The (1993)                                      |\n",
      "|1632.0   |85    |4.498245  |Spanish Prisoner, The (1997)                               |\n",
      "|1542.0   |85    |4.498245  |Brothers in Trouble (1995)                                 |\n",
      "+---------+------+----------+-----------------------------------------------------------+\n",
      "only showing top 10 rows\n",
      "\n"
     ]
    }
   ],
   "source": [
    "final_recommendations.show(10,False)"
   ]
  },
  {
   "cell_type": "markdown",
   "metadata": {},
   "source": [
    "### 定义函数"
   ]
  },
  {
   "cell_type": "code",
   "execution_count": 37,
   "metadata": {},
   "outputs": [],
   "source": [
    "unique_movies=indexed.select('title_new').distinct()"
   ]
  },
  {
   "cell_type": "code",
   "execution_count": 66,
   "metadata": {},
   "outputs": [],
   "source": [
    "#create function to recommend top 'n' movies to any particular user\n",
    "def top_movies(user_id,n):\n",
    "    \"\"\"\n",
    "    This function returns the top 'n' movies that user has not seen yet but might like \n",
    "    \n",
    "    \"\"\"\n",
    "    #给电影名称分配一个别名a，用来join操作\n",
    "    a = unique_movies.alias('a')\n",
    "    \n",
    "    #创建选取的用户看过的电影名称【itemid】\n",
    "    watched_movies=indexed.filter(indexed['userId'] == user_id).select('title_new')\n",
    "    \n",
    "    #给看过的电影名称分配一个别名b，用来join操作\n",
    "    b=watched_movies.alias('b')\n",
    "    \n",
    "    #join\n",
    "    total_movies = a.join(b, a.title_new == b.title_new,how='left')\n",
    "    \n",
    "    #去掉用户看过的电影来创建推荐电影池\n",
    "    remaining_movies=total_movies.where(col(\"b.title_new\").isNull()).select(a.title_new).distinct()\n",
    "    \n",
    "    \n",
    "    #添加一个列，用户的userid\n",
    "    remaining_movies=remaining_movies.withColumn(\"userId\",lit(int(user_id)))\n",
    "    \n",
    "    \n",
    "    #用前面训练好的模型来进行预测\n",
    "    recommendations=modelExplicit.transform(remaining_movies).orderBy('prediction',ascending=False).limit(n)\n",
    "    \n",
    "    \n",
    "    #itemID转换为title\n",
    "    movie_title = IndexToString(inputCol=\"title_new\", outputCol=\"title\",labels=model.labels)\n",
    "    final_recommendations=movie_title.transform(recommendations)\n",
    "    \n",
    "    #返回推荐列表\n",
    "    return final_recommendations.show(n,False)"
   ]
  },
  {
   "cell_type": "code",
   "execution_count": 67,
   "metadata": {},
   "outputs": [
    {
     "name": "stdout",
     "output_type": "stream",
     "text": [
      "+---------+------+----------+-----------------------------------------------------------+\n",
      "|title_new|userId|prediction|title                                                      |\n",
      "+---------+------+----------+-----------------------------------------------------------+\n",
      "|1128.0   |85    |5.4916253 |Incognito (1997)                                           |\n",
      "|829.0    |85    |4.7110386 |My Man Godfrey (1936)                                      |\n",
      "|1219.0   |85    |4.6468077 |Faster Pussycat! Kill! Kill! (1965)                        |\n",
      "|928.0    |85    |4.5846024 |Paradise Lost: The Child Murders at Robin Hood Hills (1996)|\n",
      "|1465.0   |85    |4.5183053 |Anna (1996)                                                |\n",
      "|1054.0   |85    |4.5009017 |Primary Colors (1998)                                      |\n",
      "|1632.0   |85    |4.498245  |Spanish Prisoner, The (1997)                               |\n",
      "|1517.0   |85    |4.498245  |Slingshot, The (1993)                                      |\n",
      "|1542.0   |85    |4.498245  |Brothers in Trouble (1995)                                 |\n",
      "|1432.0   |85    |4.498245  |Joy Luck Club, The (1993)                                  |\n",
      "+---------+------+----------+-----------------------------------------------------------+\n",
      "\n"
     ]
    }
   ],
   "source": [
    "top_movies(85,10)"
   ]
  },
  {
   "cell_type": "code",
   "execution_count": null,
   "metadata": {},
   "outputs": [],
   "source": []
  }
 ],
 "metadata": {
  "kernelspec": {
   "display_name": "Python 3",
   "language": "python",
   "name": "python3"
  },
  "language_info": {
   "codemirror_mode": {
    "name": "ipython",
    "version": 3
   },
   "file_extension": ".py",
   "mimetype": "text/x-python",
   "name": "python",
   "nbconvert_exporter": "python",
   "pygments_lexer": "ipython3",
   "version": "3.6.4"
  }
 },
 "nbformat": 4,
 "nbformat_minor": 2
}
